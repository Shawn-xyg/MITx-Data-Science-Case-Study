{
 "cells": [
  {
   "cell_type": "markdown",
   "metadata": {
    "collapsed": true
   },
   "source": [
    "# Case Study 6.1 - NYC Taxi Trips"
   ]
  },
  {
   "cell_type": "markdown",
   "metadata": {},
   "source": [
    "<h1 style=\"color:red;\">Note: If you close this notebook at any time, you will have to run all cells again upon re-opening it.</h1>\n",
    "\n",
    "<h1 style=\"color:red;\">Note: You may get different numerical results running the notebook different times. This is to be expected, you can just report whatever results you get.</h1>"
   ]
  },
  {
   "cell_type": "markdown",
   "metadata": {},
   "source": [
    "# ADVANCED PYTHON"
   ]
  },
  {
   "cell_type": "markdown",
   "metadata": {},
   "source": [
    "As this is an advanced version, we don't include a lot of code here. If you get stuck on a particular part, feel free to also use the beginner version in `beginnner_python.ipynb` to help you out.\n",
    "\n",
    "If you don't know your MITx username, you can create a test post [here](https://courses.xpro.mit.edu/courses/course-v1:xPRO+DSx+R11/discussion/forum/general/threads/5db91a5c59a54c4eb6000031) to find it."
   ]
  },
  {
   "cell_type": "markdown",
   "metadata": {},
   "source": [
    "# Identification Information"
   ]
  },
  {
   "cell_type": "code",
   "execution_count": null,
   "metadata": {},
   "outputs": [],
   "source": [
    "# YOUR NAME              = Xiaoyang Gong\n",
    "# YOUR MITX PRO USERNAME = xiaoyang-gong\n",
    "# YOUR MITX PRO E-MAIL   = shawn.xygong@gmail.com"
   ]
  },
  {
   "cell_type": "markdown",
   "metadata": {},
   "source": [
    "# Setup"
   ]
  },
  {
   "cell_type": "markdown",
   "metadata": {},
   "source": [
    "Run these cells to install all the packages you need to complete the remainder of the case study. This may take a few minutes, so please be patient.\n",
    "\n",
    "<h1 style=\"color:red;\">Note: You may see red errors when you run the cell below. As long as you can run the Import cell below and see \"Import successful!\", you can continue with the case study.</h1>"
   ]
  },
  {
   "cell_type": "code",
   "execution_count": 1,
   "metadata": {},
   "outputs": [
    {
     "name": "stdout",
     "output_type": "stream",
     "text": [
      "Collecting pip\n",
      "\u001b[?25l  Downloading https://files.pythonhosted.org/packages/43/84/23ed6a1796480a6f1a2d38f2802901d078266bda38388954d01d3f2e821d/pip-20.1.1-py2.py3-none-any.whl (1.5MB)\n",
      "\u001b[K     |████████████████████████████████| 1.5MB 1.1MB/s eta 0:00:01\n",
      "\u001b[?25hInstalling collected packages: pip\n",
      "  Found existing installation: pip 19.3.1\n",
      "    Uninstalling pip-19.3.1:\n",
      "      Successfully uninstalled pip-19.3.1\n",
      "Successfully installed pip-20.1.1\n",
      "Collecting featuretools==0.1.19\n",
      "  Downloading featuretools-0.1.19.tar.gz (133 kB)\n",
      "\u001b[K     |████████████████████████████████| 133 kB 1.7 MB/s eta 0:00:01\n",
      "\u001b[?25hRequirement already satisfied: numpy>=1.13.3 in /home/nbuser/anaconda3_501/lib/python3.6/site-packages (from featuretools==0.1.19) (1.16.2)\n",
      "Requirement already satisfied: scipy>=1.0.0 in /home/nbuser/anaconda3_501/lib/python3.6/site-packages (from featuretools==0.1.19) (1.1.0)\n",
      "Requirement already satisfied: pandas>=0.20.3 in /home/nbuser/anaconda3_501/lib/python3.6/site-packages (from featuretools==0.1.19) (0.23.4)\n",
      "Collecting s3fs>=0.1.2\n",
      "  Downloading s3fs-0.4.2-py3-none-any.whl (19 kB)\n",
      "Requirement already satisfied: tqdm>=4.19.2 in /home/nbuser/anaconda3_501/lib/python3.6/site-packages (from featuretools==0.1.19) (4.26.0)\n",
      "Requirement already satisfied: toolz>=0.8.2 in /home/nbuser/anaconda3_501/lib/python3.6/site-packages (from featuretools==0.1.19) (0.9.0)\n",
      "Requirement already satisfied: pyyaml>=3.12 in /home/nbuser/anaconda3_501/lib/python3.6/site-packages (from featuretools==0.1.19) (3.13)\n",
      "Requirement already satisfied: cloudpickle>=0.4.0 in /home/nbuser/anaconda3_501/lib/python3.6/site-packages (from featuretools==0.1.19) (1.2.2)\n",
      "Requirement already satisfied: future>=0.16.0 in /home/nbuser/anaconda3_501/lib/python3.6/site-packages (from featuretools==0.1.19) (0.16.0)\n",
      "Requirement already satisfied: pympler>=0.5 in /home/nbuser/anaconda3_501/lib/python3.6/site-packages (from featuretools==0.1.19) (0.7)\n",
      "Requirement already satisfied: pytz>=2011k in /home/nbuser/anaconda3_501/lib/python3.6/site-packages (from pandas>=0.20.3->featuretools==0.1.19) (2019.3)\n",
      "Requirement already satisfied: python-dateutil>=2.5.0 in /home/nbuser/anaconda3_501/lib/python3.6/site-packages (from pandas>=0.20.3->featuretools==0.1.19) (2.8.1)\n",
      "Collecting botocore>=1.12.91\n",
      "  Downloading botocore-1.17.7-py2.py3-none-any.whl (6.3 MB)\n",
      "\u001b[K     |████████████████████████████████| 6.3 MB 33 kB/s  eta 0:00:01     |████████▋                       | 1.7 MB 2.2 MB/s eta 0:00:03\n",
      "\u001b[?25hCollecting fsspec>=0.6.0\n",
      "  Downloading fsspec-0.7.4-py3-none-any.whl (75 kB)\n",
      "\u001b[K     |████████████████████████████████| 75 kB 144 kB/s eta 0:00:01\n",
      "\u001b[?25hRequirement already satisfied: six>=1.5 in /home/nbuser/anaconda3_501/lib/python3.6/site-packages (from python-dateutil>=2.5.0->pandas>=0.20.3->featuretools==0.1.19) (1.11.0)\n",
      "Requirement already satisfied: urllib3<1.26,>=1.20; python_version != \"3.4\" in /home/nbuser/anaconda3_501/lib/python3.6/site-packages (from botocore>=1.12.91->s3fs>=0.1.2->featuretools==0.1.19) (1.23)\n",
      "Requirement already satisfied: jmespath<1.0.0,>=0.7.1 in /home/nbuser/anaconda3_501/lib/python3.6/site-packages (from botocore>=1.12.91->s3fs>=0.1.2->featuretools==0.1.19) (0.9.4)\n",
      "Requirement already satisfied: docutils<0.16,>=0.10 in /home/nbuser/anaconda3_501/lib/python3.6/site-packages (from botocore>=1.12.91->s3fs>=0.1.2->featuretools==0.1.19) (0.14)\n",
      "Building wheels for collected packages: featuretools\n",
      "  Building wheel for featuretools (setup.py) ... \u001b[?25ldone\n",
      "\u001b[?25h  Created wheel for featuretools: filename=featuretools-0.1.19-py3-none-any.whl size=160178 sha256=b18f8d94726feb68f9f6bcdcc307a3b3f0ac8f325725455bf0721f35eb18162e\n",
      "  Stored in directory: /home/nbuser/.cache/pip/wheels/4f/f1/aa/7bca5250bcc0365ac8d5a71ffe6d978da04ffeaa45d71943c8\n",
      "Successfully built featuretools\n",
      "\u001b[31mERROR: boto3 1.4.8 has requirement botocore<1.9.0,>=1.8.0, but you'll have botocore 1.17.7 which is incompatible.\u001b[0m\n",
      "Installing collected packages: botocore, fsspec, s3fs, featuretools\n",
      "  Attempting uninstall: botocore\n",
      "    Found existing installation: botocore 1.8.50\n",
      "    Uninstalling botocore-1.8.50:\n",
      "      Successfully uninstalled botocore-1.8.50\n",
      "Successfully installed botocore-1.17.7 featuretools-0.1.19 fsspec-0.7.4 s3fs-0.4.2\n",
      "Collecting pandas==0.20.3\n",
      "  Downloading pandas-0.20.3-cp36-cp36m-manylinux1_x86_64.whl (24.5 MB)\n",
      "\u001b[K     |████████████████████████████████| 24.5 MB 9.0 kB/s eta 0:00:01    |████████████▏                   | 9.3 MB 9.3 MB/s eta 0:00:02\n",
      "\u001b[?25hRequirement already satisfied: pytz>=2011k in /home/nbuser/anaconda3_501/lib/python3.6/site-packages (from pandas==0.20.3) (2019.3)\n",
      "Requirement already satisfied: python-dateutil>=2 in /home/nbuser/anaconda3_501/lib/python3.6/site-packages (from pandas==0.20.3) (2.8.1)\n",
      "Requirement already satisfied: numpy>=1.7.0 in /home/nbuser/anaconda3_501/lib/python3.6/site-packages (from pandas==0.20.3) (1.16.2)\n",
      "Requirement already satisfied: six>=1.5 in /home/nbuser/anaconda3_501/lib/python3.6/site-packages (from python-dateutil>=2->pandas==0.20.3) (1.11.0)\n",
      "\u001b[31mERROR: scikit-bio 0.5.5 has requirement pandas>=0.23, but you'll have pandas 0.20.3 which is incompatible.\u001b[0m\n",
      "\u001b[31mERROR: nimbusml 1.5.0 has requirement pandas>=0.22, but you'll have pandas 0.20.3 which is incompatible.\u001b[0m\n",
      "\u001b[31mERROR: kqlmagic 0.1.107.post1 has requirement pandas>=0.23.4, but you'll have pandas 0.20.3 which is incompatible.\u001b[0m\n",
      "\u001b[31mERROR: azureml-train-automl 1.0.72 has requirement onnxmltools==1.4.1, but you'll have onnxmltools 1.6.0 which is incompatible.\u001b[0m\n",
      "\u001b[31mERROR: azureml-train-automl 1.0.72 has requirement pandas<=0.23.4,>=0.21.0, but you'll have pandas 0.20.3 which is incompatible.\u001b[0m\n",
      "\u001b[31mERROR: azureml-opendatasets 1.0.72.1 has requirement pandas<=0.23.4,>=0.21.0, but you'll have pandas 0.20.3 which is incompatible.\u001b[0m\n",
      "\u001b[31mERROR: azureml-automl-core 1.0.72.1 has requirement onnxmltools==1.4.1, but you'll have onnxmltools 1.6.0 which is incompatible.\u001b[0m\n",
      "\u001b[31mERROR: azureml-automl-core 1.0.72.1 has requirement pandas<=0.23.4,>=0.21.0, but you'll have pandas 0.20.3 which is incompatible.\u001b[0m\n",
      "Installing collected packages: pandas\n",
      "  Attempting uninstall: pandas\n",
      "    Found existing installation: pandas 0.23.4\n",
      "    Uninstalling pandas-0.23.4:\n",
      "      Successfully uninstalled pandas-0.23.4\n",
      "Successfully installed pandas-0.20.3\n"
     ]
    }
   ],
   "source": [
    "!pip install --upgrade pip\n",
    "!pip install featuretools==0.1.19\n",
    "!pip install pandas==0.20.3"
   ]
  },
  {
   "cell_type": "markdown",
   "metadata": {},
   "source": [
    "# Import"
   ]
  },
  {
   "cell_type": "code",
   "execution_count": 13,
   "metadata": {},
   "outputs": [],
   "source": [
    "import featuretools as ft\n",
    "import matplotlib\n",
    "import numpy as np\n",
    "import pandas as pd\n",
    "import utils\n",
    "from featuretools.primitives import (Count, Day, Hour, Max, Mean, Median, Min, Minute, Month, Std, Sum, Week, Weekday, IsWeekend)\n",
    "from sklearn.ensemble import GradientBoostingRegressor\n",
    "from utils import (compute_features, feature_importances, load_nyc_taxi_data,\n",
    "                   preview)"
   ]
  },
  {
   "cell_type": "code",
   "execution_count": 14,
   "metadata": {},
   "outputs": [],
   "source": [
    "%matplotlib inline"
   ]
  },
  {
   "cell_type": "markdown",
   "metadata": {},
   "source": [
    "# Data"
   ]
  },
  {
   "cell_type": "markdown",
   "metadata": {},
   "source": [
    "- Use `load_nyc_taxi_data` to get the data.\n",
    "- Use `preview` to preview the data.\n",
    "- Create a histogram of the `trip_duration` column of the `trips` table."
   ]
  },
  {
   "cell_type": "code",
   "execution_count": 25,
   "metadata": {},
   "outputs": [],
   "source": [
    "# Your code here to load, preview and visualize data\n",
    "trips, pickup_neighborhoods, dropoff_neighborhoods = load_nyc_taxi_data()"
   ]
  },
  {
   "cell_type": "code",
   "execution_count": 16,
   "metadata": {},
   "outputs": [
    {
     "data": {
      "text/html": [
       "<div>\n",
       "<style scoped>\n",
       "    .dataframe tbody tr th:only-of-type {\n",
       "        vertical-align: middle;\n",
       "    }\n",
       "\n",
       "    .dataframe tbody tr th {\n",
       "        vertical-align: top;\n",
       "    }\n",
       "\n",
       "    .dataframe thead th {\n",
       "        text-align: right;\n",
       "    }\n",
       "</style>\n",
       "<table border=\"1\" class=\"dataframe\">\n",
       "  <thead>\n",
       "    <tr style=\"text-align: right;\">\n",
       "      <th></th>\n",
       "      <th>id</th>\n",
       "      <th>vendor_id</th>\n",
       "      <th>pickup_datetime</th>\n",
       "      <th>dropoff_datetime</th>\n",
       "      <th>passenger_count</th>\n",
       "      <th>trip_distance</th>\n",
       "      <th>pickup_longitude</th>\n",
       "      <th>pickup_latitude</th>\n",
       "      <th>dropoff_longitude</th>\n",
       "      <th>dropoff_latitude</th>\n",
       "      <th>payment_type</th>\n",
       "      <th>trip_duration</th>\n",
       "      <th>pickup_neighborhood</th>\n",
       "      <th>dropoff_neighborhood</th>\n",
       "    </tr>\n",
       "  </thead>\n",
       "  <tbody>\n",
       "    <tr>\n",
       "      <th>0</th>\n",
       "      <td>514030</td>\n",
       "      <td>2</td>\n",
       "      <td>2016-04-02 00:00:00</td>\n",
       "      <td>2016-04-02 00:17:00</td>\n",
       "      <td>1</td>\n",
       "      <td>2.46</td>\n",
       "      <td>-73.987595</td>\n",
       "      <td>40.754711</td>\n",
       "      <td>-73.959633</td>\n",
       "      <td>40.762836</td>\n",
       "      <td>1</td>\n",
       "      <td>1039</td>\n",
       "      <td>AA</td>\n",
       "      <td>K</td>\n",
       "    </tr>\n",
       "    <tr>\n",
       "      <th>1</th>\n",
       "      <td>514031</td>\n",
       "      <td>1</td>\n",
       "      <td>2016-04-02 00:00:00</td>\n",
       "      <td>2016-04-02 00:24:00</td>\n",
       "      <td>2</td>\n",
       "      <td>7.90</td>\n",
       "      <td>-73.924713</td>\n",
       "      <td>40.745567</td>\n",
       "      <td>-73.972763</td>\n",
       "      <td>40.793354</td>\n",
       "      <td>1</td>\n",
       "      <td>1454</td>\n",
       "      <td>L</td>\n",
       "      <td>U</td>\n",
       "    </tr>\n",
       "    <tr>\n",
       "      <th>2</th>\n",
       "      <td>514032</td>\n",
       "      <td>1</td>\n",
       "      <td>2016-04-02 00:00:00</td>\n",
       "      <td>2016-04-02 00:19:00</td>\n",
       "      <td>1</td>\n",
       "      <td>1.00</td>\n",
       "      <td>-73.989800</td>\n",
       "      <td>40.732994</td>\n",
       "      <td>-74.000557</td>\n",
       "      <td>40.742622</td>\n",
       "      <td>1</td>\n",
       "      <td>1168</td>\n",
       "      <td>H</td>\n",
       "      <td>Q</td>\n",
       "    </tr>\n",
       "    <tr>\n",
       "      <th>3</th>\n",
       "      <td>514033</td>\n",
       "      <td>2</td>\n",
       "      <td>2016-04-02 00:00:00</td>\n",
       "      <td>2016-04-02 00:01:00</td>\n",
       "      <td>1</td>\n",
       "      <td>0.02</td>\n",
       "      <td>-73.987465</td>\n",
       "      <td>40.719822</td>\n",
       "      <td>-73.987289</td>\n",
       "      <td>40.720016</td>\n",
       "      <td>2</td>\n",
       "      <td>35</td>\n",
       "      <td>AC</td>\n",
       "      <td>AC</td>\n",
       "    </tr>\n",
       "    <tr>\n",
       "      <th>4</th>\n",
       "      <td>514034</td>\n",
       "      <td>1</td>\n",
       "      <td>2016-04-02 00:01:00</td>\n",
       "      <td>2016-04-02 00:58:00</td>\n",
       "      <td>2</td>\n",
       "      <td>19.00</td>\n",
       "      <td>-73.790131</td>\n",
       "      <td>40.643429</td>\n",
       "      <td>-73.975594</td>\n",
       "      <td>40.779327</td>\n",
       "      <td>1</td>\n",
       "      <td>3470</td>\n",
       "      <td>G</td>\n",
       "      <td>I</td>\n",
       "    </tr>\n",
       "  </tbody>\n",
       "</table>\n",
       "</div>"
      ],
      "text/plain": [
       "       id  vendor_id     pickup_datetime    dropoff_datetime  passenger_count  \\\n",
       "0  514030          2 2016-04-02 00:00:00 2016-04-02 00:17:00                1   \n",
       "1  514031          1 2016-04-02 00:00:00 2016-04-02 00:24:00                2   \n",
       "2  514032          1 2016-04-02 00:00:00 2016-04-02 00:19:00                1   \n",
       "3  514033          2 2016-04-02 00:00:00 2016-04-02 00:01:00                1   \n",
       "4  514034          1 2016-04-02 00:01:00 2016-04-02 00:58:00                2   \n",
       "\n",
       "   trip_distance  pickup_longitude  pickup_latitude  dropoff_longitude  \\\n",
       "0           2.46        -73.987595        40.754711         -73.959633   \n",
       "1           7.90        -73.924713        40.745567         -73.972763   \n",
       "2           1.00        -73.989800        40.732994         -74.000557   \n",
       "3           0.02        -73.987465        40.719822         -73.987289   \n",
       "4          19.00        -73.790131        40.643429         -73.975594   \n",
       "\n",
       "   dropoff_latitude payment_type  trip_duration pickup_neighborhood  \\\n",
       "0         40.762836            1           1039                  AA   \n",
       "1         40.793354            1           1454                   L   \n",
       "2         40.742622            1           1168                   H   \n",
       "3         40.720016            2             35                  AC   \n",
       "4         40.779327            1           3470                   G   \n",
       "\n",
       "  dropoff_neighborhood  \n",
       "0                    K  \n",
       "1                    U  \n",
       "2                    Q  \n",
       "3                   AC  \n",
       "4                    I  "
      ]
     },
     "execution_count": 16,
     "metadata": {},
     "output_type": "execute_result"
    }
   ],
   "source": [
    "# Preview the data\n",
    "preview(trips)"
   ]
  },
  {
   "cell_type": "code",
   "execution_count": 17,
   "metadata": {},
   "outputs": [
    {
     "data": {
      "text/html": [
       "<div>\n",
       "<style scoped>\n",
       "    .dataframe tbody tr th:only-of-type {\n",
       "        vertical-align: middle;\n",
       "    }\n",
       "\n",
       "    .dataframe tbody tr th {\n",
       "        vertical-align: top;\n",
       "    }\n",
       "\n",
       "    .dataframe thead th {\n",
       "        text-align: right;\n",
       "    }\n",
       "</style>\n",
       "<table border=\"1\" class=\"dataframe\">\n",
       "  <thead>\n",
       "    <tr style=\"text-align: right;\">\n",
       "      <th></th>\n",
       "      <th>neighborhood_id</th>\n",
       "      <th>latitude</th>\n",
       "      <th>longitude</th>\n",
       "    </tr>\n",
       "  </thead>\n",
       "  <tbody>\n",
       "    <tr>\n",
       "      <th>0</th>\n",
       "      <td>AH</td>\n",
       "      <td>40.804349</td>\n",
       "      <td>-73.961716</td>\n",
       "    </tr>\n",
       "    <tr>\n",
       "      <th>1</th>\n",
       "      <td>Z</td>\n",
       "      <td>40.715828</td>\n",
       "      <td>-73.954298</td>\n",
       "    </tr>\n",
       "    <tr>\n",
       "      <th>2</th>\n",
       "      <td>D</td>\n",
       "      <td>40.750179</td>\n",
       "      <td>-73.992557</td>\n",
       "    </tr>\n",
       "    <tr>\n",
       "      <th>3</th>\n",
       "      <td>AT</td>\n",
       "      <td>40.729670</td>\n",
       "      <td>-73.981693</td>\n",
       "    </tr>\n",
       "    <tr>\n",
       "      <th>4</th>\n",
       "      <td>AG</td>\n",
       "      <td>40.749843</td>\n",
       "      <td>-74.003458</td>\n",
       "    </tr>\n",
       "  </tbody>\n",
       "</table>\n",
       "</div>"
      ],
      "text/plain": [
       "  neighborhood_id   latitude  longitude\n",
       "0              AH  40.804349 -73.961716\n",
       "1               Z  40.715828 -73.954298\n",
       "2               D  40.750179 -73.992557\n",
       "3              AT  40.729670 -73.981693\n",
       "4              AG  40.749843 -74.003458"
      ]
     },
     "execution_count": 17,
     "metadata": {},
     "output_type": "execute_result"
    }
   ],
   "source": [
    "preview(pickup_neigh)"
   ]
  },
  {
   "cell_type": "code",
   "execution_count": 18,
   "metadata": {},
   "outputs": [
    {
     "data": {
      "text/html": [
       "<div>\n",
       "<style scoped>\n",
       "    .dataframe tbody tr th:only-of-type {\n",
       "        vertical-align: middle;\n",
       "    }\n",
       "\n",
       "    .dataframe tbody tr th {\n",
       "        vertical-align: top;\n",
       "    }\n",
       "\n",
       "    .dataframe thead th {\n",
       "        text-align: right;\n",
       "    }\n",
       "</style>\n",
       "<table border=\"1\" class=\"dataframe\">\n",
       "  <thead>\n",
       "    <tr style=\"text-align: right;\">\n",
       "      <th></th>\n",
       "      <th>neighborhood_id</th>\n",
       "      <th>latitude</th>\n",
       "      <th>longitude</th>\n",
       "    </tr>\n",
       "  </thead>\n",
       "  <tbody>\n",
       "    <tr>\n",
       "      <th>0</th>\n",
       "      <td>C</td>\n",
       "      <td>40.783780</td>\n",
       "      <td>-73.953145</td>\n",
       "    </tr>\n",
       "    <tr>\n",
       "      <th>1</th>\n",
       "      <td>S</td>\n",
       "      <td>40.836792</td>\n",
       "      <td>-73.934381</td>\n",
       "    </tr>\n",
       "    <tr>\n",
       "      <th>2</th>\n",
       "      <td>AL</td>\n",
       "      <td>40.818445</td>\n",
       "      <td>-73.948046</td>\n",
       "    </tr>\n",
       "    <tr>\n",
       "      <th>3</th>\n",
       "      <td>J</td>\n",
       "      <td>40.799573</td>\n",
       "      <td>-73.940427</td>\n",
       "    </tr>\n",
       "    <tr>\n",
       "      <th>4</th>\n",
       "      <td>AV</td>\n",
       "      <td>40.776270</td>\n",
       "      <td>-73.982322</td>\n",
       "    </tr>\n",
       "  </tbody>\n",
       "</table>\n",
       "</div>"
      ],
      "text/plain": [
       "  neighborhood_id   latitude  longitude\n",
       "0               C  40.783780 -73.953145\n",
       "1               S  40.836792 -73.934381\n",
       "2              AL  40.818445 -73.948046\n",
       "3               J  40.799573 -73.940427\n",
       "4              AV  40.776270 -73.982322"
      ]
     },
     "execution_count": 18,
     "metadata": {},
     "output_type": "execute_result"
    }
   ],
   "source": [
    "preview(dropoff_neigh)"
   ]
  },
  {
   "cell_type": "code",
   "execution_count": 19,
   "metadata": {},
   "outputs": [
    {
     "name": "stdout",
     "output_type": "stream",
     "text": [
      "The number of trips in the dataset is: 10000\n"
     ]
    },
    {
     "data": {
      "image/png": "[encoded data removed]",
      "text/plain": [
       "<Figure size 432x288 with 1 Axes>"
      ]
     },
     "metadata": {
      "needs_background": "light"
     },
     "output_type": "display_data"
    }
   ],
   "source": [
    "# Histogram on the trip_duration on the trips table\n",
    "trips.trip_duration.hist()\n",
    "\n",
    "# Number of trips in the dataset\n",
    "print(\"The number of trips in the dataset is:\", trips.shape[0])"
   ]
  },
  {
   "cell_type": "markdown",
   "metadata": {},
   "source": [
    "<h1 style=\"color:red;\">QUESTION 1: DATA ANALYSIS</h1>"
   ]
  },
  {
   "cell_type": "markdown",
   "metadata": {},
   "source": [
    "**Describe the dataset. How many trips are in the dataset? How would you describe the distribution of trip durations? Is there anything else we should observe? Make sure the histogram is visible in the notebook.**"
   ]
  },
  {
   "cell_type": "markdown",
   "metadata": {},
   "source": [
    "There are 10000 trips in the dataset. The distribution looks like a log normal distribution."
   ]
  },
  {
   "cell_type": "markdown",
   "metadata": {},
   "source": [
    "# Entities and Relationships"
   ]
  },
  {
   "cell_type": "markdown",
   "metadata": {},
   "source": [
    "Construct a dictionary of entities and relationships. You can read about the format of these objects [`here`](https://docs.featuretools.com/en/stable/generated/featuretools.dfs.html)."
   ]
  },
  {
   "cell_type": "code",
   "execution_count": 26,
   "metadata": {},
   "outputs": [],
   "source": [
    "# Construct entities and relationships dicts\n",
    "entities = {\n",
    "    \"trips\": (trips, \"id\", 'pickup_datetime'),\n",
    "    \"pickup_neighborhoods\": (pickup_neighborhoods, \"neighborhood_id\"),\n",
    "    \"dropoff_neighborhoods\": (dropoff_neighborhoods, \"neighborhood_id\"),\n",
    "}\n",
    "\n",
    "relationships = [(\"pickup_neighborhoods\", \"neighborhood_id\", \"trips\", \"pickup_neighborhood\"),\n",
    "                 (\"dropoff_neighborhoods\", \"neighborhood_id\", \"trips\", \"dropoff_neighborhood\")]"
   ]
  },
  {
   "cell_type": "markdown",
   "metadata": {},
   "source": [
    "# Transform Primitives"
   ]
  },
  {
   "cell_type": "code",
   "execution_count": 23,
   "metadata": {},
   "outputs": [],
   "source": [
    "# Make list of transform primtivies that only contains the Weekend object from above\n",
    "transform_primitive = [IsWeekend]"
   ]
  },
  {
   "cell_type": "code",
   "execution_count": 36,
   "metadata": {},
   "outputs": [],
   "source": [
    "# Then, use featuretools.dfs to get the features\n",
    "# See https://docs.featuretools.com/generated/featuretools.dfs.html\n",
    "# target entity should match name for trips entity in your entities dictionary\n",
    "# no agg_primitives yet\n",
    "# ignore the lat/long for dropoff and pickup\n",
    "feature_weekend, feature_weekend_defs = ft.dfs(entities = entities,\n",
    "                           relationships = relationships,\n",
    "                           target_entity = \"trips\",\n",
    "                           agg_primitives = [],\n",
    "                           trans_primitives = transform_primitive,\n",
    "                           ignore_variables = {\"trips\" : [\"pickup_longitude\", \"pickup_latitude\", \"dropoff_longitude\",\"dropoff_latitude\", \"trip_duration\"]})"
   ]
  },
  {
   "cell_type": "code",
   "execution_count": 40,
   "metadata": {},
   "outputs": [],
   "source": [
    "# Print out the features you just made\n",
    "feature_weekend_encode, feature_encode = ft.encode_features(feature_weekend, feature_weekend_defs)"
   ]
  },
  {
   "cell_type": "code",
   "execution_count": 41,
   "metadata": {},
   "outputs": [
    {
     "data": {
      "text/html": [
       "<div>\n",
       "<style scoped>\n",
       "    .dataframe tbody tr th:only-of-type {\n",
       "        vertical-align: middle;\n",
       "    }\n",
       "\n",
       "    .dataframe tbody tr th {\n",
       "        vertical-align: top;\n",
       "    }\n",
       "\n",
       "    .dataframe thead th {\n",
       "        text-align: right;\n",
       "    }\n",
       "</style>\n",
       "<table border=\"1\" class=\"dataframe\">\n",
       "  <thead>\n",
       "    <tr style=\"text-align: right;\">\n",
       "      <th></th>\n",
       "      <th>vendor_id</th>\n",
       "      <th>passenger_count</th>\n",
       "      <th>trip_distance</th>\n",
       "      <th>payment_type = 1</th>\n",
       "      <th>payment_type = 2</th>\n",
       "      <th>payment_type = 3</th>\n",
       "      <th>payment_type = 4</th>\n",
       "      <th>payment_type is unknown</th>\n",
       "      <th>pickup_neighborhood = AA</th>\n",
       "      <th>pickup_neighborhood = D</th>\n",
       "      <th>...</th>\n",
       "      <th>dropoff_neighborhood = AB</th>\n",
       "      <th>dropoff_neighborhood = AV</th>\n",
       "      <th>dropoff_neighborhood = AP</th>\n",
       "      <th>dropoff_neighborhood is unknown</th>\n",
       "      <th>IS_WEEKEND(dropoff_datetime)</th>\n",
       "      <th>IS_WEEKEND(pickup_datetime)</th>\n",
       "      <th>pickup_neighborhoods.latitude</th>\n",
       "      <th>pickup_neighborhoods.longitude</th>\n",
       "      <th>dropoff_neighborhoods.latitude</th>\n",
       "      <th>dropoff_neighborhoods.longitude</th>\n",
       "    </tr>\n",
       "    <tr>\n",
       "      <th>id</th>\n",
       "      <th></th>\n",
       "      <th></th>\n",
       "      <th></th>\n",
       "      <th></th>\n",
       "      <th></th>\n",
       "      <th></th>\n",
       "      <th></th>\n",
       "      <th></th>\n",
       "      <th></th>\n",
       "      <th></th>\n",
       "      <th></th>\n",
       "      <th></th>\n",
       "      <th></th>\n",
       "      <th></th>\n",
       "      <th></th>\n",
       "      <th></th>\n",
       "      <th></th>\n",
       "      <th></th>\n",
       "      <th></th>\n",
       "      <th></th>\n",
       "      <th></th>\n",
       "    </tr>\n",
       "  </thead>\n",
       "  <tbody>\n",
       "    <tr>\n",
       "      <th>514030</th>\n",
       "      <td>2</td>\n",
       "      <td>1</td>\n",
       "      <td>2.46</td>\n",
       "      <td>1</td>\n",
       "      <td>0</td>\n",
       "      <td>0</td>\n",
       "      <td>0</td>\n",
       "      <td>0</td>\n",
       "      <td>1</td>\n",
       "      <td>0</td>\n",
       "      <td>...</td>\n",
       "      <td>0</td>\n",
       "      <td>0</td>\n",
       "      <td>0</td>\n",
       "      <td>1</td>\n",
       "      <td>True</td>\n",
       "      <td>True</td>\n",
       "      <td>40.757707</td>\n",
       "      <td>-73.986446</td>\n",
       "      <td>40.766809</td>\n",
       "      <td>-73.956886</td>\n",
       "    </tr>\n",
       "    <tr>\n",
       "      <th>514031</th>\n",
       "      <td>1</td>\n",
       "      <td>2</td>\n",
       "      <td>7.90</td>\n",
       "      <td>1</td>\n",
       "      <td>0</td>\n",
       "      <td>0</td>\n",
       "      <td>0</td>\n",
       "      <td>0</td>\n",
       "      <td>0</td>\n",
       "      <td>0</td>\n",
       "      <td>...</td>\n",
       "      <td>0</td>\n",
       "      <td>0</td>\n",
       "      <td>0</td>\n",
       "      <td>1</td>\n",
       "      <td>True</td>\n",
       "      <td>True</td>\n",
       "      <td>40.744928</td>\n",
       "      <td>-73.919159</td>\n",
       "      <td>40.793597</td>\n",
       "      <td>-73.969822</td>\n",
       "    </tr>\n",
       "    <tr>\n",
       "      <th>514032</th>\n",
       "      <td>1</td>\n",
       "      <td>1</td>\n",
       "      <td>1.00</td>\n",
       "      <td>1</td>\n",
       "      <td>0</td>\n",
       "      <td>0</td>\n",
       "      <td>0</td>\n",
       "      <td>0</td>\n",
       "      <td>0</td>\n",
       "      <td>0</td>\n",
       "      <td>...</td>\n",
       "      <td>0</td>\n",
       "      <td>0</td>\n",
       "      <td>0</td>\n",
       "      <td>1</td>\n",
       "      <td>True</td>\n",
       "      <td>True</td>\n",
       "      <td>40.729652</td>\n",
       "      <td>-73.991595</td>\n",
       "      <td>40.740333</td>\n",
       "      <td>-74.005107</td>\n",
       "    </tr>\n",
       "    <tr>\n",
       "      <th>514033</th>\n",
       "      <td>2</td>\n",
       "      <td>1</td>\n",
       "      <td>0.02</td>\n",
       "      <td>0</td>\n",
       "      <td>1</td>\n",
       "      <td>0</td>\n",
       "      <td>0</td>\n",
       "      <td>0</td>\n",
       "      <td>0</td>\n",
       "      <td>0</td>\n",
       "      <td>...</td>\n",
       "      <td>0</td>\n",
       "      <td>0</td>\n",
       "      <td>0</td>\n",
       "      <td>1</td>\n",
       "      <td>True</td>\n",
       "      <td>True</td>\n",
       "      <td>40.720245</td>\n",
       "      <td>-73.987205</td>\n",
       "      <td>40.720245</td>\n",
       "      <td>-73.987205</td>\n",
       "    </tr>\n",
       "    <tr>\n",
       "      <th>514034</th>\n",
       "      <td>1</td>\n",
       "      <td>2</td>\n",
       "      <td>19.00</td>\n",
       "      <td>1</td>\n",
       "      <td>0</td>\n",
       "      <td>0</td>\n",
       "      <td>0</td>\n",
       "      <td>0</td>\n",
       "      <td>0</td>\n",
       "      <td>0</td>\n",
       "      <td>...</td>\n",
       "      <td>0</td>\n",
       "      <td>0</td>\n",
       "      <td>0</td>\n",
       "      <td>1</td>\n",
       "      <td>True</td>\n",
       "      <td>True</td>\n",
       "      <td>40.646194</td>\n",
       "      <td>-73.785073</td>\n",
       "      <td>40.785005</td>\n",
       "      <td>-73.976050</td>\n",
       "    </tr>\n",
       "  </tbody>\n",
       "</table>\n",
       "<p>5 rows × 36 columns</p>\n",
       "</div>"
      ],
      "text/plain": [
       "        vendor_id  passenger_count  trip_distance  payment_type = 1  \\\n",
       "id                                                                    \n",
       "514030          2                1           2.46                 1   \n",
       "514031          1                2           7.90                 1   \n",
       "514032          1                1           1.00                 1   \n",
       "514033          2                1           0.02                 0   \n",
       "514034          1                2          19.00                 1   \n",
       "\n",
       "        payment_type = 2  payment_type = 3  payment_type = 4  \\\n",
       "id                                                             \n",
       "514030                 0                 0                 0   \n",
       "514031                 0                 0                 0   \n",
       "514032                 0                 0                 0   \n",
       "514033                 1                 0                 0   \n",
       "514034                 0                 0                 0   \n",
       "\n",
       "        payment_type is unknown  pickup_neighborhood = AA  \\\n",
       "id                                                          \n",
       "514030                        0                         1   \n",
       "514031                        0                         0   \n",
       "514032                        0                         0   \n",
       "514033                        0                         0   \n",
       "514034                        0                         0   \n",
       "\n",
       "        pickup_neighborhood = D  ...  dropoff_neighborhood = AB  \\\n",
       "id                               ...                              \n",
       "514030                        0  ...                          0   \n",
       "514031                        0  ...                          0   \n",
       "514032                        0  ...                          0   \n",
       "514033                        0  ...                          0   \n",
       "514034                        0  ...                          0   \n",
       "\n",
       "        dropoff_neighborhood = AV  dropoff_neighborhood = AP  \\\n",
       "id                                                             \n",
       "514030                          0                          0   \n",
       "514031                          0                          0   \n",
       "514032                          0                          0   \n",
       "514033                          0                          0   \n",
       "514034                          0                          0   \n",
       "\n",
       "        dropoff_neighborhood is unknown  IS_WEEKEND(dropoff_datetime)  \\\n",
       "id                                                                      \n",
       "514030                                1                          True   \n",
       "514031                                1                          True   \n",
       "514032                                1                          True   \n",
       "514033                                1                          True   \n",
       "514034                                1                          True   \n",
       "\n",
       "        IS_WEEKEND(pickup_datetime)  pickup_neighborhoods.latitude  \\\n",
       "id                                                                   \n",
       "514030                         True                      40.757707   \n",
       "514031                         True                      40.744928   \n",
       "514032                         True                      40.729652   \n",
       "514033                         True                      40.720245   \n",
       "514034                         True                      40.646194   \n",
       "\n",
       "        pickup_neighborhoods.longitude  dropoff_neighborhoods.latitude  \\\n",
       "id                                                                       \n",
       "514030                      -73.986446                       40.766809   \n",
       "514031                      -73.919159                       40.793597   \n",
       "514032                      -73.991595                       40.740333   \n",
       "514033                      -73.987205                       40.720245   \n",
       "514034                      -73.785073                       40.785005   \n",
       "\n",
       "        dropoff_neighborhoods.longitude  \n",
       "id                                       \n",
       "514030                       -73.956886  \n",
       "514031                       -73.969822  \n",
       "514032                       -74.005107  \n",
       "514033                       -73.987205  \n",
       "514034                       -73.976050  \n",
       "\n",
       "[5 rows x 36 columns]"
      ]
     },
     "execution_count": 41,
     "metadata": {},
     "output_type": "execute_result"
    }
   ],
   "source": [
    "# Use compute_features to get the feature matrix from the list of features you just made\n",
    "\n",
    "preview(feature_weekend_encode)\n"
   ]
  },
  {
   "cell_type": "markdown",
   "metadata": {},
   "source": [
    "# First Model"
   ]
  },
  {
   "cell_type": "code",
   "execution_count": 56,
   "metadata": {},
   "outputs": [],
   "source": [
    "# Split feature matrix (75% train, 25% test) using utils.train_test_fm\n",
    "# Pass in features, trips dataframe, and fraction train (0.75)\n",
    "x_train, y_train, x_test, y_test = utils.get_train_test_fm(feature_weekend_encode, trips, 0.75)"
   ]
  },
  {
   "cell_type": "code",
   "execution_count": 57,
   "metadata": {},
   "outputs": [],
   "source": [
    "# Use np.log(x + 1) to take the log of a particular vector x - this helps create a more linear relationship\n",
    "y_train = np.log(y_train + 1)\n",
    "y_test = np.log(y_test + 1)"
   ]
  },
  {
   "cell_type": "code",
   "execution_count": 58,
   "metadata": {},
   "outputs": [
    {
     "name": "stdout",
     "output_type": "stream",
     "text": [
      "      Iter       Train Loss   Remaining Time \n",
      "         1           0.4736            3.36s\n",
      "         2           0.4148            2.12s\n",
      "         3           0.3661            1.65s\n",
      "         4           0.3266            1.39s\n",
      "         5           0.2934            1.25s\n",
      "         6           0.2665            1.16s\n",
      "         7           0.2441            1.07s\n",
      "         8           0.2257            1.02s\n",
      "         9           0.2103            0.97s\n",
      "        10           0.1973            0.92s\n",
      "        20           0.1434            0.70s\n",
      "        30           0.1312            0.58s\n",
      "        40           0.1257            0.48s\n",
      "        50           0.1225            0.39s\n",
      "        60           0.1202            0.31s\n",
      "        70           0.1184            0.23s\n",
      "        80           0.1168            0.15s\n",
      "        90           0.1156            0.08s\n",
      "       100           0.1138            0.00s\n"
     ]
    },
    {
     "data": {
      "text/plain": [
       "GradientBoostingRegressor(alpha=0.9, ccp_alpha=0.0, criterion='friedman_mse',\n",
       "                          init=None, learning_rate=0.1, loss='ls', max_depth=3,\n",
       "                          max_features=None, max_leaf_nodes=None,\n",
       "                          min_impurity_decrease=0.0, min_impurity_split=None,\n",
       "                          min_samples_leaf=1, min_samples_split=2,\n",
       "                          min_weight_fraction_leaf=0.0, n_estimators=100,\n",
       "                          n_iter_no_change=None, presort='deprecated',\n",
       "                          random_state=None, subsample=1.0, tol=0.0001,\n",
       "                          validation_fraction=0.1, verbose=True,\n",
       "                          warm_start=False)"
      ]
     },
     "execution_count": 58,
     "metadata": {},
     "output_type": "execute_result"
    }
   ],
   "source": [
    "# Then, create a GradientBoostingRegressor\n",
    "# Fit to training\n",
    "# Score on testing\n",
    "model = GradientBoostingRegressor(verbose = True)\n",
    "model.fit(x_train, y_train)\n"
   ]
  },
  {
   "cell_type": "code",
   "execution_count": 59,
   "metadata": {},
   "outputs": [
    {
     "name": "stdout",
     "output_type": "stream",
     "text": [
      "0.7533221310797884\n"
     ]
    }
   ],
   "source": [
    "print(model.score(x_test,y_test))"
   ]
  },
  {
   "cell_type": "markdown",
   "metadata": {},
   "source": [
    "<h1 style=\"color:red;\">QUESTION 2: FIRST MODEL</h1>"
   ]
  },
  {
   "cell_type": "markdown",
   "metadata": {},
   "source": [
    "**Describe all the features that we added to the model. Do you think these improved the performance from a model that did not have these features? Why?**"
   ]
  },
  {
   "cell_type": "markdown",
   "metadata": {},
   "source": [
    "*Type your response here...*"
   ]
  },
  {
   "cell_type": "markdown",
   "metadata": {},
   "source": [
    "# More Transform Primitives"
   ]
  },
  {
   "cell_type": "code",
   "execution_count": 61,
   "metadata": {},
   "outputs": [],
   "source": [
    "# Make list of transform primtivies that contain new primitives described in the instruction manual\n",
    "transform_list = [Minute, Hour, Week, Month, Weekday]"
   ]
  },
  {
   "cell_type": "code",
   "execution_count": 66,
   "metadata": {},
   "outputs": [],
   "source": [
    "# Compute features\n",
    "feature_matrix, features = ft.dfs(entities = entities,\n",
    "                           relationships = relationships,\n",
    "                           target_entity = \"trips\",\n",
    "                           agg_primitives = [],\n",
    "                           trans_primitives = transform_list,\n",
    "                           ignore_variables = {\"trips\" : [\"pickup_longitude\", \"pickup_latitude\", \"dropoff_longitude\",\"dropoff_latitude\", \"trip_duration\"]})"
   ]
  },
  {
   "cell_type": "code",
   "execution_count": 73,
   "metadata": {},
   "outputs": [],
   "source": [
    "# Compute feature matrix\n",
    "feature_matrix_encode, encoded_features = ft.encode_features(feature_matrix, features)"
   ]
  },
  {
   "cell_type": "code",
   "execution_count": 74,
   "metadata": {},
   "outputs": [],
   "source": [
    "# Re-split feature matrix\n",
    "X_train, y_train, X_test, y_test = utils.get_train_test_fm(feature_matrix_encode, trips, 0.75)\n",
    "y_train = np.log(y_train + 1)\n",
    "y_test = np.log(y_test + 1)\n"
   ]
  },
  {
   "cell_type": "code",
   "execution_count": 75,
   "metadata": {},
   "outputs": [
    {
     "name": "stdout",
     "output_type": "stream",
     "text": [
      "      Iter       Train Loss   Remaining Time \n",
      "         1           0.4736            1.48s\n",
      "         2           0.4148            1.47s\n",
      "         3           0.3661            1.39s\n",
      "         4           0.3266            1.32s\n",
      "         5           0.2934            1.27s\n",
      "         6           0.2665            1.23s\n",
      "         7           0.2441            1.22s\n",
      "         8           0.2257            1.19s\n",
      "         9           0.2103            1.18s\n",
      "        10           0.1973            1.16s\n",
      "        20           0.1434            1.01s\n",
      "        30           0.1306            0.89s\n",
      "        40           0.1241            0.75s\n",
      "        50           0.1194            0.64s\n",
      "        60           0.1161            0.51s\n",
      "        70           0.1140            0.38s\n",
      "        80           0.1116            0.25s\n",
      "        90           0.1084            0.13s\n",
      "       100           0.1045            0.00s\n",
      "0.7519675814605612\n"
     ]
    }
   ],
   "source": [
    "# Train and score NEW model\n",
    "model = GradientBoostingRegressor(verbose = True)\n",
    "model.fit(X_train, y_train)\n",
    "\n",
    "print(model.score(X_test, y_test))"
   ]
  },
  {
   "cell_type": "markdown",
   "metadata": {},
   "source": [
    "<h1 style=\"color:red;\">QUESTION 3: SECOND MODEL</h1>"
   ]
  },
  {
   "cell_type": "markdown",
   "metadata": {},
   "source": [
    "**Describe the rest of the new features that we just added to the model. How did this affect performance? Did we have to sacrifice training time?**"
   ]
  },
  {
   "cell_type": "markdown",
   "metadata": {},
   "source": [
    "*Type your response here...*"
   ]
  },
  {
   "cell_type": "markdown",
   "metadata": {},
   "source": [
    "# Aggregation Primitives"
   ]
  },
  {
   "cell_type": "code",
   "execution_count": 76,
   "metadata": {},
   "outputs": [],
   "source": [
    "# Make list of transform primtivies that are the same as above\n",
    "# Make a list of aggregation primitives containing Count, Sum, Mean, Median, Std, Max, Min\n",
    "transform_list = [Minute, Hour, Week, Month, Weekday, IsWeekend]\n",
    "aggregation_list = [Count, Sum, Mean, Median, Std, Max, Min]\n"
   ]
  },
  {
   "cell_type": "code",
   "execution_count": 77,
   "metadata": {},
   "outputs": [],
   "source": [
    "# Compute features\n",
    "\n",
    "feature_matrix, features = ft.dfs(entities = entities,\n",
    "                           relationships = relationships,\n",
    "                           target_entity = \"trips\",\n",
    "                           agg_primitives = aggregation_list,\n",
    "                           trans_primitives = transform_list,\n",
    "                           ignore_variables = {\"trips\" : [\"pickup_longitude\", \"pickup_latitude\", \"dropoff_longitude\",\"dropoff_latitude\", \"trip_duration\"]})"
   ]
  },
  {
   "cell_type": "code",
   "execution_count": 78,
   "metadata": {},
   "outputs": [],
   "source": [
    "# Compute feature matrix\n",
    "feature_matrix_encoded, features_encoded = ft.encode_features(feature_matrix, features)\n"
   ]
  },
  {
   "cell_type": "code",
   "execution_count": 84,
   "metadata": {},
   "outputs": [],
   "source": [
    "# Re-split feature matrix\n",
    "X_train, y_train, X_test, y_test = utils.get_train_test_fm(feature_matrix_encoded, trips, 0.75)\n",
    "y_train = np.log(y_train + 1)\n",
    "y_test = np.log(y_test + 1)"
   ]
  },
  {
   "cell_type": "code",
   "execution_count": 85,
   "metadata": {},
   "outputs": [
    {
     "name": "stdout",
     "output_type": "stream",
     "text": [
      "      Iter       Train Loss   Remaining Time \n",
      "         1           0.4736            3.06s\n",
      "         2           0.4148            2.83s\n",
      "         3           0.3661            2.74s\n",
      "         4           0.3266            2.66s\n",
      "         5           0.2934            2.61s\n",
      "         6           0.2665            2.55s\n",
      "         7           0.2441            2.52s\n",
      "         8           0.2257            2.50s\n",
      "         9           0.2103            2.46s\n",
      "        10           0.1973            2.43s\n",
      "        20           0.1427            2.19s\n",
      "        30           0.1292            1.88s\n",
      "        40           0.1225            1.60s\n",
      "        50           0.1181            1.32s\n",
      "        60           0.1151            1.08s\n",
      "        70           0.1124            0.81s\n",
      "        80           0.1103            0.54s\n",
      "        90           0.1079            0.27s\n",
      "       100           0.1027            0.00s\n",
      "0.7535658437548765\n"
     ]
    }
   ],
   "source": [
    "# Train and score NEW model\n",
    "model = GradientBoostingRegressor(verbose = True)\n",
    "model.fit(X_train, y_train)\n",
    "\n",
    "print(model.score(X_test, y_test))"
   ]
  },
  {
   "cell_type": "markdown",
   "metadata": {},
   "source": [
    "# Evaluate on Test Data"
   ]
  },
  {
   "cell_type": "code",
   "execution_count": null,
   "metadata": {},
   "outputs": [],
   "source": [
    "# Use .predict() function on your latest model to get y_pred from X_test"
   ]
  },
  {
   "cell_type": "code",
   "execution_count": null,
   "metadata": {},
   "outputs": [],
   "source": [
    "# Print some of the predictions"
   ]
  },
  {
   "cell_type": "code",
   "execution_count": null,
   "metadata": {},
   "outputs": [],
   "source": [
    "# Create histogram of predictions"
   ]
  },
  {
   "cell_type": "markdown",
   "metadata": {},
   "source": [
    "<h1 style=\"color:red;\">QUESTION 4: MODEL PREDICTIONS</h1>"
   ]
  },
  {
   "cell_type": "markdown",
   "metadata": {},
   "source": [
    "**Analyze the model predictions. Does the output distribution match the one you made earlier in the case study? What other features/strategies could we use to make our model even better, if we had more time?**"
   ]
  },
  {
   "cell_type": "markdown",
   "metadata": {},
   "source": [
    "*Type your response here...*"
   ]
  },
  {
   "cell_type": "markdown",
   "metadata": {},
   "source": [
    "# Feature Importance"
   ]
  },
  {
   "cell_type": "code",
   "execution_count": 86,
   "metadata": {},
   "outputs": [
    {
     "name": "stdout",
     "output_type": "stream",
     "text": [
      "1: Feature: trip_distance, 0.886\n",
      "2: Feature: dropoff_neighborhoods.longitude, 0.027\n",
      "3: Feature: dropoff_neighborhoods.latitude, 0.021\n",
      "4: Feature: MINUTE(pickup_datetime), 0.006\n",
      "5: Feature: MINUTE(dropoff_datetime), 0.005\n",
      "6: Feature: pickup_neighborhoods.longitude, 0.004\n",
      "7: Feature: pickup_neighborhoods.SUM(trips.trip_distance), 0.004\n",
      "8: Feature: HOUR(pickup_datetime) = 2, 0.004\n",
      "9: Feature: HOUR(pickup_datetime) = 1, 0.003\n",
      "10: Feature: dropoff_neighborhoods.SUM(trips.trip_distance), 0.003\n",
      "11: Feature: dropoff_neighborhoods.SUM(trips.passenger_count), 0.003\n",
      "12: Feature: HOUR(pickup_datetime) is unknown, 0.003\n",
      "13: Feature: pickup_neighborhoods.latitude, 0.002\n",
      "14: Feature: pickup_neighborhoods.COUNT(trips), 0.002\n",
      "15: Feature: pickup_neighborhoods.MEAN(trips.trip_distance), 0.002\n",
      "16: Feature: pickup_neighborhoods.MEDIAN(trips.trip_distance), 0.002\n",
      "17: Feature: dropoff_neighborhoods.SUM(trips.vendor_id), 0.002\n",
      "18: Feature: dropoff_neighborhood = AA, 0.001\n",
      "19: Feature: dropoff_neighborhoods.COUNT(trips), 0.001\n",
      "20: Feature: HOUR(dropoff_datetime) = 13, 0.001\n",
      "21: Feature: HOUR(dropoff_datetime) = 9, 0.001\n",
      "22: Feature: HOUR(dropoff_datetime) = 2, 0.001\n",
      "23: Feature: pickup_neighborhoods.STD(trips.trip_distance), 0.001\n",
      "24: Feature: dropoff_neighborhoods.MAX(trips.trip_distance), 0.001\n",
      "25: Feature: payment_type = 3, 0.001\n"
     ]
    }
   ],
   "source": [
    "# Compute feature importance of model\n",
    "# You can use the feature_importances function we defined for you\n",
    "# Or, see the feature_importances_ attribute of our model\n",
    "# http://scikit-learn.org/stable/modules/generated/sklearn.ensemble.GradientBoostingRegressor.html\n",
    "feature_importances(model, feature_matrix_encoded.columns, n=25)"
   ]
  },
  {
   "cell_type": "markdown",
   "metadata": {},
   "source": [
    "<h1 style=\"color:red;\">QUESTION 5: FEATURE IMPORTANCE</h1>"
   ]
  },
  {
   "cell_type": "markdown",
   "metadata": {},
   "source": [
    "**Analyze the feature importance values you just computed above. Do they make sense? Are there any values you are surprised by? Give some brief explanations as to why these features are relevant in computing the `trip_duration` target variable.**"
   ]
  },
  {
   "cell_type": "markdown",
   "metadata": {},
   "source": [
    "*Type your response here...*"
   ]
  },
  {
   "cell_type": "markdown",
   "metadata": {},
   "source": [
    "<hr>"
   ]
  },
  {
   "cell_type": "markdown",
   "metadata": {},
   "source": [
    "Great job! Now, make sure you check out the **Conclusion** section of the [instruction manual](https://courses.edx.org/asset-v1:MITxPRO+DSx+2T2018+type@asset+block@6.1_instruction_manual.html) to wrap up this case study properly."
   ]
  }
 ],
 "metadata": {
  "kernelspec": {
   "display_name": "Python 3",
   "language": "python",
   "name": "python3"
  },
  "language_info": {
   "codemirror_mode": {
    "name": "ipython",
    "version": 3
   },
   "file_extension": ".py",
   "mimetype": "text/x-python",
   "name": "python",
   "nbconvert_exporter": "python",
   "pygments_lexer": "ipython3",
   "version": "3.7.7"
  }
 },
 "nbformat": 4,
 "nbformat_minor": 2
}
