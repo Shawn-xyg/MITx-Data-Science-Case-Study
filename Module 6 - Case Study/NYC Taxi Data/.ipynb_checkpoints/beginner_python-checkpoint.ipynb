{
  "cells": [
    {
      "metadata": {
        "collapsed": true
      },
      "cell_type": "markdown",
      "source": "# Case Study 6.1 - NYC Taxi Trips"
    },
    {
      "metadata": {},
      "cell_type": "markdown",
      "source": "<h1 style=\"color:red;\">Note: If you close this notebook at any time, you will have to run all cells again upon re-opening it.</h1>\n\n<h1 style=\"color:red;\">Note: You may get different numerical results running the notebook different times. This is to be expected, you can just report whatever results you get.</h1>"
    },
    {
      "metadata": {},
      "cell_type": "markdown",
      "source": "# BEGINNER PYTHON"
    },
    {
      "metadata": {},
      "cell_type": "markdown",
      "source": "As this is a beginner version, we include a lot of code here to help you along the way.\n\n**First, fill in your identification information below. Then, you only have to type in the answers to the questions we ask you. For the rest of the cells, just Run them by pressing the \"Run\" button above.**\n\nIf you don't know your MITx username, you can create a test post [here](https://courses.xpro.mit.edu/courses/course-v1:xPRO+DSx+R11/discussion/forum/general/threads/5db91a5c59a54c4eb6000031) to find it."
    },
    {
      "metadata": {},
      "cell_type": "markdown",
      "source": "# Identification Information"
    },
    {
      "metadata": {
        "trusted": true
      },
      "cell_type": "code",
      "source": "# YOUR NAME              = ...\n# YOUR MITX PRO USERNAME = ...\n# YOUR MITX PRO E-MAIL   = ...",
      "execution_count": null,
      "outputs": []
    },
    {
      "metadata": {},
      "cell_type": "markdown",
      "source": "# Setup"
    },
    {
      "metadata": {},
      "cell_type": "markdown",
      "source": "Run these cells to install all the packages you need to complete the remainder of the case study. This may take a few minutes, so please be patient.\n\n<h1 style=\"color:red;\">Note: You may see red errors when you run the cell below. As long as you can run the Import cell 2 cells below and see \"Install successful!\" and \"Import successful!\", you can continue with the case study.</h1>"
    },
    {
      "metadata": {
        "trusted": true
      },
      "cell_type": "code",
      "source": "!pip install -q --upgrade pip\n!pip install -q featuretools==0.1.19\n!pip install -q pandas==0.20.3\nprint('Install successful!')",
      "execution_count": null,
      "outputs": []
    },
    {
      "metadata": {},
      "cell_type": "markdown",
      "source": "### Import"
    },
    {
      "metadata": {},
      "cell_type": "markdown",
      "source": "Import the required tools into the notebook."
    },
    {
      "metadata": {
        "trusted": true
      },
      "cell_type": "code",
      "source": "import featuretools as ft\nimport matplotlib\nimport matplotlib.pyplot as plt\nimport numpy as np\nimport pandas as pd\nimport utils\nfrom featuretools.primitives import (Count, Day, Hour, Max, Mean, Median, Min,\n                                     Minute, Month, Std, Sum, Week, Weekday,\n                                     Weekend)\nfrom sklearn.ensemble import GradientBoostingRegressor\nfrom utils import (compute_features, feature_importances, load_nyc_taxi_data,\n                   preview)\n%matplotlib inline\n\nprint('Import successful!')",
      "execution_count": null,
      "outputs": []
    },
    {
      "metadata": {
        "trusted": true
      },
      "cell_type": "code",
      "source": "assert ft.__version__ == '0.1.19', 'Make sure you run the command above with the correct version.'\nassert pd.__version__ == '0.20.3', 'Make sure you run the command above with the correct version.'",
      "execution_count": null,
      "outputs": []
    },
    {
      "metadata": {},
      "cell_type": "markdown",
      "source": "# Data"
    },
    {
      "metadata": {},
      "cell_type": "markdown",
      "source": "Load the NYC taxi trip data. Note that this may take a minute or two, so please be patient."
    },
    {
      "metadata": {
        "trusted": true
      },
      "cell_type": "code",
      "source": "trips, pickup_neighborhoods, dropoff_neighborhoods = load_nyc_taxi_data()\npreview(trips, 10)\nprint('Data load successful!')",
      "execution_count": null,
      "outputs": []
    },
    {
      "metadata": {},
      "cell_type": "markdown",
      "source": "We can also plot some aspects of the data to get a better sense of its distributions. For instance, here is the `trip_duration` variable we are going to try to predict."
    },
    {
      "metadata": {
        "trusted": true
      },
      "cell_type": "code",
      "source": "trips.trip_duration.hist()\nplt.xlabel('Trip Duration in Seconds')\nplt.ylabel('Number of Trips')\nplt.suptitle('Trip Duration Distribution')\nplt.show()\nprint('Histogram generation successful!')",
      "execution_count": null,
      "outputs": []
    },
    {
      "metadata": {
        "trusted": true
      },
      "cell_type": "code",
      "source": "trips.shape[0]  # Tells us how many trips are in the dataset",
      "execution_count": null,
      "outputs": []
    },
    {
      "metadata": {},
      "cell_type": "markdown",
      "source": "<h1 style=\"color:red;\">QUESTION 1: DATA ANALYSIS</h1>"
    },
    {
      "metadata": {},
      "cell_type": "markdown",
      "source": "**Describe the dataset. How many trips are in the dataset? How would you describe the distribution of trip durations? Is there anything else we should observe? Make sure the histogram is visible in the notebook.**"
    },
    {
      "metadata": {},
      "cell_type": "markdown",
      "source": "*Type your response here...*"
    },
    {
      "metadata": {},
      "cell_type": "markdown",
      "source": "# Entities and Relationships"
    },
    {
      "metadata": {
        "trusted": true
      },
      "cell_type": "code",
      "source": "entities = {\n    \"trips\": (trips, \"id\", 'pickup_datetime'),\n    \"pickup_neighborhoods\": (pickup_neighborhoods, \"neighborhood_id\"),\n    \"dropoff_neighborhoods\": (dropoff_neighborhoods, \"neighborhood_id\"),\n}\n\nrelationships = [(\"pickup_neighborhoods\", \"neighborhood_id\", \"trips\", \"pickup_neighborhood\"),\n                 (\"dropoff_neighborhoods\", \"neighborhood_id\", \"trips\", \"dropoff_neighborhood\")]\n\nprint('Entities and relationships successful!')",
      "execution_count": null,
      "outputs": []
    },
    {
      "metadata": {},
      "cell_type": "markdown",
      "source": "# Transform Primitives"
    },
    {
      "metadata": {
        "trusted": true
      },
      "cell_type": "code",
      "source": "trans_primitives = [Weekend]\n\n# This may take some time to compute\nfeatures = ft.dfs(entities=entities,\n                  relationships=relationships,\n                  target_entity=\"trips\",\n                  trans_primitives=trans_primitives,\n                  agg_primitives=[],\n                  ignore_variables={\"trips\": [\"pickup_latitude\", \"pickup_longitude\",\n                                              \"dropoff_latitude\", \"dropoff_longitude\", \"trip_duration\"]},\n                  features_only=True)\n\nprint('Transform primitives successful!')",
      "execution_count": null,
      "outputs": []
    },
    {
      "metadata": {},
      "cell_type": "markdown",
      "source": "Here are the features that we just created."
    },
    {
      "metadata": {
        "trusted": true
      },
      "cell_type": "code",
      "source": "print(f\"Number of features: {len(features)}\")\nfeatures",
      "execution_count": null,
      "outputs": []
    },
    {
      "metadata": {},
      "cell_type": "markdown",
      "source": "Finally, we compute the feature matrix from these features."
    },
    {
      "metadata": {
        "trusted": true
      },
      "cell_type": "code",
      "source": "feature_matrix = compute_features(features)\npreview(feature_matrix, 5)",
      "execution_count": null,
      "outputs": []
    },
    {
      "metadata": {},
      "cell_type": "markdown",
      "source": "# First Model"
    },
    {
      "metadata": {
        "trusted": true
      },
      "cell_type": "code",
      "source": "# Split data\nX_train, y_train, X_test, y_test = utils.get_train_test_fm(feature_matrix, trips, .75)\ny_train = np.log(y_train + 1)\ny_test = np.log(y_test + 1)\n\nprint('Data split successful!')",
      "execution_count": null,
      "outputs": []
    },
    {
      "metadata": {
        "trusted": true
      },
      "cell_type": "code",
      "source": "# This should train within a minute or so\nmodel = GradientBoostingRegressor(verbose=True)\nmodel.fit(X_train, y_train)\nprint(model.score(X_test, y_test)) # This is the R^2 value of the prediction\n\nprint('Training successful!')",
      "execution_count": null,
      "outputs": []
    },
    {
      "metadata": {},
      "cell_type": "markdown",
      "source": "<h1 style=\"color:red;\">QUESTION 2: FIRST MODEL</h1>"
    },
    {
      "metadata": {},
      "cell_type": "markdown",
      "source": "**Describe all the features that we added to the model. Do you think these improved the performance from a model that did not have these features? Why?**"
    },
    {
      "metadata": {},
      "cell_type": "markdown",
      "source": "*Type your response here...*"
    },
    {
      "metadata": {},
      "cell_type": "markdown",
      "source": "# More Transform Primitives"
    },
    {
      "metadata": {
        "trusted": true
      },
      "cell_type": "code",
      "source": "trans_primitives = [Minute, Hour, Day, Week, Month, Weekday, Weekend]\n\nfeatures = ft.dfs(entities=entities,\n                  relationships=relationships,\n                  target_entity=\"trips\",\n                  trans_primitives=trans_primitives,\n                  agg_primitives=[],\n                  ignore_variables={\"trips\": [\"pickup_latitude\", \"pickup_longitude\",\n                                              \"dropoff_latitude\", \"dropoff_longitude\", \"trip_duration\"]},\n                  features_only=True)\n\nprint('Transform primitives successful!')",
      "execution_count": null,
      "outputs": []
    },
    {
      "metadata": {
        "trusted": true
      },
      "cell_type": "code",
      "source": "print(f\"Number of features: {len(features)}\")\nfeatures",
      "execution_count": null,
      "outputs": []
    },
    {
      "metadata": {
        "trusted": true
      },
      "cell_type": "code",
      "source": "feature_matrix = compute_features(features)\npreview(feature_matrix, 5)",
      "execution_count": null,
      "outputs": []
    },
    {
      "metadata": {
        "trusted": true
      },
      "cell_type": "code",
      "source": "# Re-split data\nX_train, y_train, X_test, y_test = utils.get_train_test_fm(feature_matrix, trips, .75)\ny_train = np.log(y_train + 1)\ny_test = np.log(y_test + 1)\n\nprint('Data split successful!')",
      "execution_count": null,
      "outputs": []
    },
    {
      "metadata": {
        "trusted": true
      },
      "cell_type": "code",
      "source": "# This should train within a minute or so\nmodel = GradientBoostingRegressor(verbose=True)\nmodel.fit(X_train, y_train)\nprint(model.score(X_test, y_test)) # This is the R^2 value of the prediction\n\nprint('Training successful!')",
      "execution_count": null,
      "outputs": []
    },
    {
      "metadata": {},
      "cell_type": "markdown",
      "source": "<h1 style=\"color:red;\">QUESTION 3: SECOND MODEL</h1>"
    },
    {
      "metadata": {},
      "cell_type": "markdown",
      "source": "**Describe the rest of the new features that we just added to the model. How did this affect performance? Did we have to sacrifice training time?**"
    },
    {
      "metadata": {},
      "cell_type": "markdown",
      "source": "*Type your response here...*"
    },
    {
      "metadata": {},
      "cell_type": "markdown",
      "source": "# Aggregation Primitives"
    },
    {
      "metadata": {
        "trusted": true
      },
      "cell_type": "code",
      "source": "trans_primitives = [Minute, Hour, Day, Week, Month, Weekday, Weekend]\naggregation_primitives = [Count, Sum, Mean, Median, Std, Max, Min]\n\nfeatures = ft.dfs(entities=entities,\n                  relationships=relationships,\n                  target_entity=\"trips\",\n                  trans_primitives=trans_primitives,\n                  agg_primitives=aggregation_primitives,\n                  ignore_variables={\"trips\": [\"pickup_latitude\", \"pickup_longitude\",\n                                              \"dropoff_latitude\", \"dropoff_longitude\", \"trip_duration\"]},\n                  features_only=True)\n\nprint('Aggregation primitives successful!')",
      "execution_count": null,
      "outputs": []
    },
    {
      "metadata": {
        "trusted": true
      },
      "cell_type": "code",
      "source": "print(f\"Number of features: {len(features)}\")\nfeatures",
      "execution_count": null,
      "outputs": []
    },
    {
      "metadata": {
        "trusted": true
      },
      "cell_type": "code",
      "source": "# This may take a bit longer to compute, so please be patient\nfeature_matrix = compute_features(features)\npreview(feature_matrix, 5)",
      "execution_count": null,
      "outputs": []
    },
    {
      "metadata": {
        "trusted": true
      },
      "cell_type": "code",
      "source": "# Re-split data\nX_train, y_train, X_test, y_test = utils.get_train_test_fm(feature_matrix, trips, .75)\ny_train = np.log(y_train + 1)\ny_test = np.log(y_test + 1)\n\nprint('Data split successful!')",
      "execution_count": null,
      "outputs": []
    },
    {
      "metadata": {
        "trusted": true
      },
      "cell_type": "code",
      "source": "# This should train within a minute or so\nmodel = GradientBoostingRegressor(verbose=True)\nmodel.fit(X_train, y_train)\nprint(model.score(X_test, y_test)) # This is the R^2 value of the prediction\n\nprint('Training successful!')",
      "execution_count": null,
      "outputs": []
    },
    {
      "metadata": {},
      "cell_type": "markdown",
      "source": "# Evaluate on Test Data"
    },
    {
      "metadata": {
        "trusted": true
      },
      "cell_type": "code",
      "source": "y_pred = model.predict(X_test)\ny_pred = np.exp(y_pred) - 1 # undo the log we took earlier\n\nprint('y_pred computation successful!')",
      "execution_count": null,
      "outputs": []
    },
    {
      "metadata": {
        "trusted": true
      },
      "cell_type": "code",
      "source": "# Print the first 5 predictions\ny_pred[:5]",
      "execution_count": null,
      "outputs": []
    },
    {
      "metadata": {
        "trusted": true
      },
      "cell_type": "code",
      "source": "# Create a histogram of all of them\nmatplotlib.pyplot.hist(y_pred)\n\nprint('Histogram generation successful!')",
      "execution_count": null,
      "outputs": []
    },
    {
      "metadata": {},
      "cell_type": "markdown",
      "source": "<h1 style=\"color:red;\">QUESTION 4: MODEL PREDICTIONS</h1>"
    },
    {
      "metadata": {},
      "cell_type": "markdown",
      "source": "**Analyze the model predictions. Does the output distribution match the one you made earlier in the case study? What other features/strategies could we use to make our model even better, if we had more time?**"
    },
    {
      "metadata": {},
      "cell_type": "markdown",
      "source": "*Type your response here...*"
    },
    {
      "metadata": {},
      "cell_type": "markdown",
      "source": "# Feature Importance"
    },
    {
      "metadata": {
        "trusted": true
      },
      "cell_type": "code",
      "source": "feature_importances(model, feature_matrix.columns, n=25)",
      "execution_count": null,
      "outputs": []
    },
    {
      "metadata": {},
      "cell_type": "markdown",
      "source": "<h1 style=\"color:red;\">QUESTION 5: FEATURE IMPORTANCE</h1>"
    },
    {
      "metadata": {},
      "cell_type": "markdown",
      "source": "**Analyze the feature importance values you just computed above. Do they make sense? Are there any values you are surprised by? Give some brief explanations as to why these features are relevant in computing the `trip_duration` target variable.**"
    },
    {
      "metadata": {},
      "cell_type": "markdown",
      "source": "*Type your response here...*"
    },
    {
      "metadata": {},
      "cell_type": "markdown",
      "source": "<hr>"
    },
    {
      "metadata": {},
      "cell_type": "markdown",
      "source": "Great job! Now, make sure you check out the **Conclusion** section of the [instruction manual](https://courses.edx.org/asset-v1:MITxPRO+DSx+2T2018+type@asset+block@6.1_instruction_manual.html) to wrap up this case study properly."
    }
  ],
  "metadata": {
    "kernelspec": {
      "name": "python36",
      "display_name": "Python 3.6",
      "language": "python"
    },
    "language_info": {
      "mimetype": "text/x-python",
      "nbconvert_exporter": "python",
      "name": "python",
      "pygments_lexer": "ipython3",
      "version": "3.6.6",
      "file_extension": ".py",
      "codemirror_mode": {
        "version": 3,
        "name": "ipython"
      }
    }
  },
  "nbformat": 4,
  "nbformat_minor": 2
}