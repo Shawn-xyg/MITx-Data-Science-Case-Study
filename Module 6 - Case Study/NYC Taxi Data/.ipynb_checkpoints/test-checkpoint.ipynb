{
  "cells": [
    {
      "metadata": {
        "trusted": true
      },
      "cell_type": "code",
      "source": "!pip install --upgrade pip\n!pip install featuretools==0.1.19",
      "execution_count": 8,
      "outputs": [
        {
          "output_type": "stream",
          "text": "Collecting pip\n\u001b[?25l  Downloading https://files.pythonhosted.org/packages/00/b6/9cfa56b4081ad13874b0c6f96af8ce16cfbc1cb06bedf8e9164ce5551ec1/pip-19.3.1-py2.py3-none-any.whl (1.4MB)\n\u001b[K     |████████████████████████████████| 1.4MB 1.3MB/s eta 0:00:01\n\u001b[?25hInstalling collected packages: pip\n  Found existing installation: pip 19.2.2\n    Uninstalling pip-19.2.2:\n      Successfully uninstalled pip-19.2.2\nSuccessfully installed pip-19.3.1\nRequirement already satisfied: featuretools==0.1.19 in /home/nbuser/anaconda3_501/lib/python3.6/site-packages (0.1.19)\nRequirement already satisfied: toolz>=0.8.2 in /home/nbuser/anaconda3_501/lib/python3.6/site-packages (from featuretools==0.1.19) (0.9.0)\nRequirement already satisfied: scipy>=1.0.0 in /home/nbuser/anaconda3_501/lib/python3.6/site-packages (from featuretools==0.1.19) (1.1.0)\nRequirement already satisfied: s3fs>=0.1.2 in /home/nbuser/anaconda3_501/lib/python3.6/site-packages (from featuretools==0.1.19) (0.3.5)\nRequirement already satisfied: numpy>=1.13.3 in /home/nbuser/anaconda3_501/lib/python3.6/site-packages (from featuretools==0.1.19) (1.16.2)\nRequirement already satisfied: cloudpickle>=0.4.0 in /home/nbuser/anaconda3_501/lib/python3.6/site-packages (from featuretools==0.1.19) (1.2.1)\nRequirement already satisfied: future>=0.16.0 in /home/nbuser/anaconda3_501/lib/python3.6/site-packages (from featuretools==0.1.19) (0.16.0)\nRequirement already satisfied: pyyaml>=3.12 in /home/nbuser/anaconda3_501/lib/python3.6/site-packages (from featuretools==0.1.19) (3.13)\nRequirement already satisfied: pympler>=0.5 in /home/nbuser/anaconda3_501/lib/python3.6/site-packages (from featuretools==0.1.19) (0.7)\nRequirement already satisfied: pandas>=0.20.3 in /home/nbuser/anaconda3_501/lib/python3.6/site-packages (from featuretools==0.1.19) (0.23.4)\nRequirement already satisfied: tqdm>=4.19.2 in /home/nbuser/anaconda3_501/lib/python3.6/site-packages (from featuretools==0.1.19) (4.26.0)\nRequirement already satisfied: botocore>=1.12.91 in /home/nbuser/anaconda3_501/lib/python3.6/site-packages (from s3fs>=0.1.2->featuretools==0.1.19) (1.13.6)\nRequirement already satisfied: boto3>=1.9.91 in /home/nbuser/anaconda3_501/lib/python3.6/site-packages (from s3fs>=0.1.2->featuretools==0.1.19) (1.10.6)\nRequirement already satisfied: fsspec>=0.2.2 in /home/nbuser/anaconda3_501/lib/python3.6/site-packages (from s3fs>=0.1.2->featuretools==0.1.19) (0.5.2)\nRequirement already satisfied: pytz>=2011k in /home/nbuser/anaconda3_501/lib/python3.6/site-packages (from pandas>=0.20.3->featuretools==0.1.19) (2018.7)\nRequirement already satisfied: python-dateutil>=2.5.0 in /home/nbuser/anaconda3_501/lib/python3.6/site-packages (from pandas>=0.20.3->featuretools==0.1.19) (2.8.0)\nRequirement already satisfied: jmespath<1.0.0,>=0.7.1 in /home/nbuser/anaconda3_501/lib/python3.6/site-packages (from botocore>=1.12.91->s3fs>=0.1.2->featuretools==0.1.19) (0.9.4)\nRequirement already satisfied: docutils<0.16,>=0.10 in /home/nbuser/anaconda3_501/lib/python3.6/site-packages (from botocore>=1.12.91->s3fs>=0.1.2->featuretools==0.1.19) (0.14)\nRequirement already satisfied: urllib3<1.26,>=1.20; python_version >= \"3.4\" in /home/nbuser/anaconda3_501/lib/python3.6/site-packages (from botocore>=1.12.91->s3fs>=0.1.2->featuretools==0.1.19) (1.23)\nRequirement already satisfied: s3transfer<0.3.0,>=0.2.0 in /home/nbuser/anaconda3_501/lib/python3.6/site-packages (from boto3>=1.9.91->s3fs>=0.1.2->featuretools==0.1.19) (0.2.1)\nRequirement already satisfied: six>=1.5 in /home/nbuser/anaconda3_501/lib/python3.6/site-packages (from python-dateutil>=2.5.0->pandas>=0.20.3->featuretools==0.1.19) (1.11.0)\n",
          "name": "stdout"
        }
      ]
    },
    {
      "metadata": {
        "trusted": true
      },
      "cell_type": "code",
      "source": "import featuretools as ft\nimport matplotlib\nimport matplotlib.pyplot as plt\nimport numpy as np\nimport utils\nfrom featuretools.primitives import (Count, Day, Hour, Max, Mean, Median, Min,\n                                     Minute, Month, Std, Sum, Week, Weekday,\n                                     Weekend)\nfrom sklearn.ensemble import GradientBoostingRegressor\nfrom utils import (compute_features, feature_importances, load_nyc_taxi_data,\n                   preview)\n\nprint('Import successful!')",
      "execution_count": null,
      "outputs": []
    },
    {
      "metadata": {
        "trusted": true
      },
      "cell_type": "code",
      "source": "%matplotlib inline\nassert ft.__version__ == '0.1.19'",
      "execution_count": null,
      "outputs": []
    },
    {
      "metadata": {
        "trusted": true
      },
      "cell_type": "code",
      "source": "",
      "execution_count": null,
      "outputs": []
    }
  ],
  "metadata": {
    "kernelspec": {
      "name": "python36",
      "display_name": "Python 3.6",
      "language": "python"
    },
    "language_info": {
      "mimetype": "text/x-python",
      "nbconvert_exporter": "python",
      "name": "python",
      "pygments_lexer": "ipython3",
      "version": "3.6.6",
      "file_extension": ".py",
      "codemirror_mode": {
        "version": 3,
        "name": "ipython"
      }
    }
  },
  "nbformat": 4,
  "nbformat_minor": 2
}